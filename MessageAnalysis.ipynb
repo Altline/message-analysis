{
 "cells": [
  {
   "cell_type": "code",
   "execution_count": null,
   "metadata": {},
   "outputs": [],
   "source": [
    "import numpy as np\n",
    "import pandas as pd\n",
    "import json\n",
    "import regex\n",
    "import emoji\n",
    "from os import walk\n",
    "from datetime import date, datetime, timedelta\n",
    "from matplotlib import pyplot as plt\n",
    "from matplotlib import dates as mdates"
   ]
  },
  {
   "cell_type": "code",
   "execution_count": null,
   "metadata": {},
   "outputs": [],
   "source": [
    "# %matplotlib tk\n",
    "plt.rcParams['figure.figsize'] = [17, 5]\n",
    "\n",
    "chatdir = ''"
   ]
  },
  {
   "cell_type": "code",
   "execution_count": null,
   "metadata": {},
   "outputs": [],
   "source": [
    "def daterange(start_date, end_date):\n",
    "    for n in range(int((end_date - start_date).days)):\n",
    "        yield start_date + timedelta(n)\n",
    "        \n",
    "        \n",
    "# Separates a string into symbols\n",
    "# Similar to list(string) but works with graphemes consisting of more than one character\n",
    "def extract_symbols(string):\n",
    "    return regex.findall(r'\\X', string)\n",
    "\n",
    "\n",
    "def plot(x, y, plot_type='line'):\n",
    "    if plot_type == 'line':\n",
    "        plt.grid(zorder=0)\n",
    "        plt.plot(x, y, zorder=3)\n",
    "        \n",
    "    elif plot_type == 'bar':\n",
    "        plt.grid(axis='y', zorder=0)\n",
    "        plt.bar(x, y, zorder=3)\n",
    "        \n",
    "    else:\n",
    "        print('Invalid plot_type')\n",
    "\n",
    "\n",
    "def plot_dict_items(items, plot_type='line', xlim_left=None, xlim_right=None):\n",
    "    if (xlim_left is not None) or (xlim_right is not None):\n",
    "        plt.xlim(xlim_left, xlim_right)\n",
    "        \n",
    "    x, y = zip(*items)\n",
    "    plot(x, y, plot_type)\n",
    "    \n",
    "    \n",
    "def plot_pie(values, legend=None):\n",
    "    total = sum(values)\n",
    "    plt.pie(values, autopct=lambda p: '{:.2f}%\\n({:.0f})'.format(p, p * total / 100))\n",
    "    if legend is not None: \n",
    "        plt.legend(legend)"
   ]
  },
  {
   "cell_type": "code",
   "execution_count": null,
   "metadata": {},
   "outputs": [],
   "source": [
    "(_, _, filenames) = next(walk(chatdir))\n",
    "filenames"
   ]
  },
  {
   "cell_type": "code",
   "execution_count": null,
   "metadata": {
    "scrolled": false
   },
   "outputs": [],
   "source": [
    "msg_columns = ('Time', 'Sender', 'Content', 'Type', 'Sticker', 'Photos', 'Videos', 'Audio', 'Share')\n",
    "extracted_data = []\n",
    "\n",
    "for i in range(1, len(filenames) + 1):\n",
    "    with open(chatdir + 'message_' + str(i) + '.json', 'r', encoding='raw_unicode_escape') as f:\n",
    "        raw_data = json.loads(f.read().encode('raw_unicode_escape').decode())\n",
    "        \n",
    "    for msg in raw_data['messages']:\n",
    "        timestamp = datetime.fromtimestamp(msg.get('timestamp_ms', 0) // 1000)\n",
    "        sender = msg.get('sender_name', None)\n",
    "        msg_content = msg.get('content', None)\n",
    "        msg_type = msg.get('type', None)\n",
    "        sticker = msg.get('sticker', None)\n",
    "        photos = msg.get('photos', None)\n",
    "        videos = msg.get('videos', None)\n",
    "        audio = msg.get('audio_files', None)\n",
    "        share = msg.get('share', None)\n",
    "\n",
    "        extracted_data.append((timestamp, sender, msg_content, msg_type, sticker, photos, videos, audio, share))\n",
    "\n",
    "extracted_data.reverse()\n",
    "data = pd.DataFrame(extracted_data, columns=msg_columns)\n",
    "data"
   ]
  },
  {
   "cell_type": "code",
   "execution_count": null,
   "metadata": {
    "scrolled": true
   },
   "outputs": [],
   "source": [
    "# for row in extracted_data:\n",
    "#     print(f'<{row[0]}> {row[1]}: {row[2]}')"
   ]
  },
  {
   "cell_type": "code",
   "execution_count": null,
   "metadata": {},
   "outputs": [],
   "source": [
    "earliest_datetime = data['Time'].min()\n",
    "earliest_date = earliest_datetime.date()\n",
    "print(f'Earliest datetime: {earliest_datetime}')\n",
    "\n",
    "xlim_left = date(2019, 10, 28)\n",
    "xlim_right = date.today()"
   ]
  },
  {
   "cell_type": "code",
   "execution_count": null,
   "metadata": {},
   "outputs": [],
   "source": [
    "# colors = ('r', 'b', 'g')\n",
    "people = {}\n",
    "i = 0\n",
    "for participant in raw_data['participants']:\n",
    "    people[participant['name']] = {\n",
    "        # can contain properties\n",
    "#         'color': colors[i]\n",
    "    }\n",
    "    i += 1"
   ]
  },
  {
   "cell_type": "code",
   "execution_count": null,
   "metadata": {},
   "outputs": [],
   "source": [
    "print(f'Total messages: {len(data)}')\n",
    "msgs_per_person = [len(data[data.Sender == person]) for person in people]\n",
    "plot_pie(msgs_per_person, legend=people)"
   ]
  },
  {
   "cell_type": "code",
   "execution_count": null,
   "metadata": {},
   "outputs": [],
   "source": [
    "charsum = sum(len(msg) for msg in data['Content'] if msg)\n",
    "charsums = [sum(len(msg) for msg in data['Content'][data.Sender == person] if msg) for person in people]\n",
    "print(f'Total characters: {charsum}')\n",
    "plot_pie(charsums, legend=people)"
   ]
  },
  {
   "cell_type": "code",
   "execution_count": null,
   "metadata": {},
   "outputs": [],
   "source": [
    "def count_emojis(data):\n",
    "    emojis = 0\n",
    "    for msg in data['Content']:\n",
    "        if msg is None: continue\n",
    "            \n",
    "        split_text = regex.findall(r'\\X', msg)\n",
    "        for symbol in split_text:\n",
    "            if any(char in emoji.UNICODE_EMOJI for char in symbol):\n",
    "                emojis += 1\n",
    "\n",
    "    return emojis"
   ]
  },
  {
   "cell_type": "code",
   "execution_count": null,
   "metadata": {},
   "outputs": [],
   "source": [
    "print(f'Total emojis: {count_emojis(data)}')\n",
    "emojis_per_person = [count_emojis(data[data.Sender == person]) for person in people]\n",
    "plot_pie(emojis_per_person, legend=people)"
   ]
  },
  {
   "cell_type": "code",
   "execution_count": null,
   "metadata": {},
   "outputs": [],
   "source": [
    "total_msg_len = 0\n",
    "msg_count = 0\n",
    "total_word_len = 0\n",
    "word_count = 0\n",
    "for msg in data['Content']:\n",
    "    if msg is None: continue\n",
    "\n",
    "    total_msg_len += len(msg)\n",
    "    msg_count += 1\n",
    "\n",
    "    for word in regex.findall('\\w+', msg):\n",
    "        total_word_len += len(word)\n",
    "        word_count += 1\n",
    "\n",
    "print('Average message length: {:.2f} chars'.format(total_msg_len/msg_count))\n",
    "print('Average word length: {:.2f} chars'.format(total_word_len/word_count))"
   ]
  },
  {
   "cell_type": "code",
   "execution_count": null,
   "metadata": {},
   "outputs": [],
   "source": [
    "def plot_msgs_daily(data, plot_type='line'):\n",
    "    freq = {}\n",
    "    for msg_datetime in data['Time']:\n",
    "        msg_date = msg_datetime.date()\n",
    "        freq[msg_date] = freq.get(msg_date, 0) + 1\n",
    "\n",
    "    for day in daterange(earliest_date, date.today()):\n",
    "        if day not in freq:\n",
    "            freq[day] = 0\n",
    "\n",
    "    plot_dict_items(sorted(freq.items()), plot_type, xlim_left, xlim_right)\n",
    "    plt.title('Daily messages')"
   ]
  },
  {
   "cell_type": "code",
   "execution_count": null,
   "metadata": {
    "scrolled": false
   },
   "outputs": [],
   "source": [
    "plt.figure(1)\n",
    "plot_msgs_daily(data, plot_type='bar')"
   ]
  },
  {
   "cell_type": "code",
   "execution_count": null,
   "metadata": {
    "scrolled": true
   },
   "outputs": [],
   "source": [
    "plt.figure(2)\n",
    "for person in people:\n",
    "    plot_msgs_daily(data[data.Sender == person])\n",
    "\n",
    "plt.legend(people.keys());"
   ]
  },
  {
   "cell_type": "code",
   "execution_count": null,
   "metadata": {},
   "outputs": [],
   "source": [
    "def plot_chars_daily(data, plot_type='line'):\n",
    "    freq = {}\n",
    "    for msg_datetime, msg_content in zip(data['Time'], data['Content']):\n",
    "        msg_date = msg_datetime.date()\n",
    "        freq[msg_date] = freq.get(msg_date, 0) + (len(msg_content) if msg_content else 0)\n",
    "        \n",
    "    for day in daterange(earliest_date, date.today()):\n",
    "        if day not in freq:\n",
    "            freq[day] = 0\n",
    "\n",
    "    plot_dict_items(sorted(freq.items()), plot_type, xlim_left, xlim_right)\n",
    "    plt.title('Daily characters')"
   ]
  },
  {
   "cell_type": "code",
   "execution_count": null,
   "metadata": {},
   "outputs": [],
   "source": [
    "plt.figure(3)\n",
    "plot_chars_daily(data, plot_type='bar')"
   ]
  },
  {
   "cell_type": "code",
   "execution_count": null,
   "metadata": {
    "scrolled": false
   },
   "outputs": [],
   "source": [
    "plt.figure(4)\n",
    "for person in people:\n",
    "    plot_chars_daily(data[data.Sender == person])\n",
    "    \n",
    "plt.legend(people.keys());"
   ]
  },
  {
   "cell_type": "code",
   "execution_count": null,
   "metadata": {},
   "outputs": [],
   "source": [
    "def plot_count_daily(data, snippet, ignore_case=True):\n",
    "    freq = {}\n",
    "    for msg_datetime, msg_content in zip(data['Time'], data['Content']):\n",
    "        if not msg_content: continue\n",
    "        msg_date = msg_datetime.date()\n",
    "        \n",
    "        if ignore_case:\n",
    "            snippet = snippet.lower()\n",
    "            msg_content = msg_content.lower()\n",
    "            \n",
    "        matches = len(regex.findall(f'\\\\b{snippet}\\\\b', msg_content))\n",
    "        freq[msg_date] = freq.get(msg_date, 0) + matches\n",
    "        \n",
    "    for day in daterange(earliest_date, date.today()):\n",
    "        if day not in freq:\n",
    "            freq[day] = 0\n",
    "        \n",
    "    plot_dict_items(sorted(freq.items()), xlim_left=xlim_left, xlim_right=xlim_right)\n",
    "    plt.title(f'Daily occurrence of \"{snippet}\"')"
   ]
  },
  {
   "cell_type": "code",
   "execution_count": null,
   "metadata": {},
   "outputs": [],
   "source": [
    "plot_count_daily(data, 'lol')"
   ]
  },
  {
   "cell_type": "code",
   "execution_count": null,
   "metadata": {},
   "outputs": [],
   "source": [
    "def plot_count_daily_multi(data, snippets, ignore_case=True):\n",
    "    for snippet in snippets:\n",
    "        plot_count_daily(data, snippet, ignore_case)\n",
    "        \n",
    "    plt.title(None)\n",
    "    plt.legend(snippets)"
   ]
  },
  {
   "cell_type": "code",
   "execution_count": null,
   "metadata": {},
   "outputs": [],
   "source": [
    "snippets = ['yes', 'yesh', 'esh']\n",
    "plot_count_daily_multi(data, snippets)"
   ]
  },
  {
   "cell_type": "code",
   "execution_count": null,
   "metadata": {},
   "outputs": [],
   "source": [
    "snippets = ['no', 'nah', 'nop', 'nope']\n",
    "plot_count_daily_multi(data, snippets)"
   ]
  },
  {
   "cell_type": "code",
   "execution_count": null,
   "metadata": {},
   "outputs": [],
   "source": [
    "snippets = ['meh', 'hmeh', 'shmesh']\n",
    "plot_count_daily_multi(data, snippets)"
   ]
  },
  {
   "cell_type": "code",
   "execution_count": null,
   "metadata": {},
   "outputs": [],
   "source": [
    "snippets = ['haha', 'hahah', 'hahaha']\n",
    "plot_count_daily_multi(data, snippets)"
   ]
  },
  {
   "cell_type": "code",
   "execution_count": null,
   "metadata": {},
   "outputs": [],
   "source": [
    "snippets = ['lol', 'xd']\n",
    "plot_count_daily_multi(data, snippets)"
   ]
  },
  {
   "cell_type": "code",
   "execution_count": null,
   "metadata": {},
   "outputs": [],
   "source": [
    "def plot_count_daily_person(data, snippet, ignore_case=True):\n",
    "    plt.grid(zorder=0)\n",
    "    \n",
    "    if (xlim_left is not None) or (xlim_right is not None):\n",
    "        plt.xlim(xlim_left, xlim_right)\n",
    "    \n",
    "    freqs = {}\n",
    "    heights = None\n",
    "    \n",
    "    for person in people:\n",
    "        freqs[person] = {}\n",
    "        freq = freqs[person]\n",
    "        person_data = data[data.Sender == person]\n",
    "        \n",
    "        for msg_datetime, msg_content in zip(person_data['Time'], person_data['Content']):\n",
    "            if not msg_content: continue\n",
    "            msg_date = msg_datetime.date()\n",
    "\n",
    "            if ignore_case:\n",
    "                snippet = snippet.lower()\n",
    "                msg_content = msg_content.lower()\n",
    "\n",
    "            matches = len(regex.findall(f'\\\\b{snippet}\\\\b', msg_content))\n",
    "            freq[msg_date] = freq.get(msg_date, 0) + matches\n",
    "        \n",
    "        for day in daterange(earliest_date, date.today()):\n",
    "            if day not in freq:\n",
    "                freq[day] = 0\n",
    "        \n",
    "        dates, values = zip(*sorted(freq.items()))\n",
    "        if heights is None:\n",
    "            heights = [0] * len(dates)\n",
    "            \n",
    "        plt.bar(dates, values, bottom=heights, zorder=3)\n",
    "        heights = np.add(heights, values)\n",
    "        \n",
    "    plt.title(f'Daily occurrence of \"{snippet}\"')\n",
    "    plt.legend(people.keys())"
   ]
  },
  {
   "cell_type": "code",
   "execution_count": null,
   "metadata": {},
   "outputs": [],
   "source": [
    "plot_count_daily_person(data, 'hahah')"
   ]
  },
  {
   "cell_type": "code",
   "execution_count": null,
   "metadata": {},
   "outputs": [],
   "source": [
    "plot_count_daily_person(data, 'hmeh')"
   ]
  },
  {
   "cell_type": "code",
   "execution_count": null,
   "metadata": {},
   "outputs": [],
   "source": [
    "def plot_messages(data):\n",
    "    freq = {}\n",
    "    for msg in data['Content']:\n",
    "        if msg is None: continue\n",
    "        \n",
    "        freq[msg] = freq.get(msg, 0) + 1\n",
    "        \n",
    "    plot_dict_items(sorted(freq.items(), key=lambda e: e[1], reverse=True)[:50], plot_type='bar')\n",
    "    plt.gcf().autofmt_xdate()"
   ]
  },
  {
   "cell_type": "code",
   "execution_count": null,
   "metadata": {},
   "outputs": [],
   "source": [
    "plot_messages(data)"
   ]
  },
  {
   "cell_type": "code",
   "execution_count": null,
   "metadata": {
    "scrolled": false
   },
   "outputs": [],
   "source": [
    "def plot_words(data, char_count=0):\n",
    "    freq = {}\n",
    "    for msg in data['Content']:\n",
    "        if msg is None: continue\n",
    "            \n",
    "        for word in regex.findall('\\w+', msg):\n",
    "            if char_count == 0 or len(word) == char_count:\n",
    "                key = word.lower()\n",
    "                freq[key] = freq.get(key, 0) + 1\n",
    "            \n",
    "    plot_dict_items(sorted(freq.items(), key=lambda e: e[1], reverse=True)[:50], plot_type='bar')\n",
    "    plt.gcf().autofmt_xdate()"
   ]
  },
  {
   "cell_type": "code",
   "execution_count": null,
   "metadata": {},
   "outputs": [],
   "source": [
    "plt.figure(5)\n",
    "plot_words(data)"
   ]
  },
  {
   "cell_type": "code",
   "execution_count": null,
   "metadata": {},
   "outputs": [],
   "source": [
    "def plot_words_person(data, char_count=0):\n",
    "    plt.grid(axis='y', zorder=0)\n",
    "    \n",
    "    total_freq = {}\n",
    "    for msg in data['Content']:\n",
    "        if msg is None: continue\n",
    "            \n",
    "        for word in regex.findall('\\w+', msg):\n",
    "            if char_count == 0 or len(word) == char_count:\n",
    "                key = word.lower()\n",
    "                total_freq[key] = total_freq.get(key, 0) + 1\n",
    "    \n",
    "    if not total_freq:\n",
    "        print(f'No words with {char_count} letters')\n",
    "        return\n",
    "        \n",
    "    words, counts = zip(*sorted(total_freq.items(), key=lambda e: e[1], reverse=True)[:50])\n",
    "    heights = [0] * len(words)\n",
    "    \n",
    "    freqs = {}\n",
    "    for person in people:\n",
    "        freqs[person] = {}\n",
    "        freq = freqs[person]\n",
    "        \n",
    "        for msg in data[data.Sender == person]['Content']:\n",
    "            if msg is None: continue\n",
    "\n",
    "            for word in regex.findall('\\w+', msg):\n",
    "                if char_count == 0 or len(word) == char_count:\n",
    "                    key = word.lower()\n",
    "                    freq[key] = freq.get(key, 0) + 1\n",
    "\n",
    "        values = [freqs[person].get(word, 0) for word in words]\n",
    "        plt.bar(words, values, bottom=heights, zorder=3)\n",
    "        heights = np.add(heights, values)\n",
    "        \n",
    "    plt.gcf().autofmt_xdate()\n",
    "    plt.title('Most common words' if char_count == 0 else f'{char_count} letter words')\n",
    "    plt.legend(people.keys())"
   ]
  },
  {
   "cell_type": "code",
   "execution_count": null,
   "metadata": {},
   "outputs": [],
   "source": [
    "plot_words_person(data)"
   ]
  },
  {
   "cell_type": "code",
   "execution_count": null,
   "metadata": {
    "scrolled": false
   },
   "outputs": [],
   "source": [
    "for i in range(1,26):\n",
    "    plot_words_person(data, char_count=i)\n",
    "    plt.show()"
   ]
  },
  {
   "cell_type": "code",
   "execution_count": null,
   "metadata": {},
   "outputs": [],
   "source": [
    "def count_talk_starts(data, cooldowns):\n",
    "    counts = {}\n",
    "    last_dt = datetime(1970,1,1)\n",
    "    \n",
    "    for msg_datetime, sender in zip(data['Time'], data['Sender']):\n",
    "        time_diff = msg_datetime - last_dt\n",
    "        \n",
    "        for cooldown in cooldowns:\n",
    "            if time_diff.total_seconds() > cooldown * 60:\n",
    "                counts[sender] = counts.get(sender, {})\n",
    "                sender_count = counts[sender]\n",
    "                sender_count[cooldown] = sender_count.get(cooldown, 0) + 1\n",
    "            \n",
    "        last_dt = msg_datetime  \n",
    "        \n",
    "    return counts"
   ]
  },
  {
   "cell_type": "code",
   "execution_count": null,
   "metadata": {},
   "outputs": [],
   "source": [
    "counts = count_talk_starts(data, range(20,801,10))\n",
    "for person in counts:\n",
    "    plot_dict_items(counts[person].items())\n",
    "    \n",
    "plt.title('Conversation initiations')\n",
    "plt.xlabel('Minutes after last message')\n",
    "plt.ylabel('Number of initiations')\n",
    "plt.legend(counts.keys());"
   ]
  },
  {
   "cell_type": "code",
   "execution_count": null,
   "metadata": {},
   "outputs": [],
   "source": [
    "def count_occurrences(data, snippet, ignore_case=True):\n",
    "    if ignore_case:\n",
    "        return sum(msg.lower().count(snippet.lower()) for msg in data['Content'] if msg)\n",
    "    else:\n",
    "        return sum(msg.count(snippet) for msg in data['Content'] if msg)\n",
    "    \n",
    "    \n",
    "def count_char_occurrences(data, charlist):\n",
    "    return [(el, count_occurrences(data, el)) for el in extract_symbols(charlist)]"
   ]
  },
  {
   "cell_type": "code",
   "execution_count": null,
   "metadata": {},
   "outputs": [],
   "source": [
    "for el,count in count_char_occurrences(data, '\\u2764❤️'):\n",
    "    print(f'{el} {count}')\n",
    "# ❤ su sva srceta\n",
    "# ❤️ su samo neka... fb cudno to rasporeduje"
   ]
  },
  {
   "cell_type": "code",
   "execution_count": null,
   "metadata": {
    "scrolled": false
   },
   "outputs": [],
   "source": [
    "def count_char_occ_person(data, charlist):\n",
    "    chars_person = []\n",
    "    for person in people:\n",
    "        occ = count_char_occurrences(data[data.Sender == person], charlist)\n",
    "        chars_person.append(list(count for _,count in occ))\n",
    "\n",
    "    chars = extract_symbols(charlist)\n",
    "    totals = [sum(char_counts) for char_counts in zip(*chars_person)]\n",
    "    \n",
    "    char_data = zip(chars, *chars_person, totals)\n",
    "    cols = ('Symbol',) + tuple(people.keys()) + ('Total',)\n",
    "    return pd.DataFrame(char_data, columns=cols)"
   ]
  },
  {
   "cell_type": "code",
   "execution_count": null,
   "metadata": {},
   "outputs": [],
   "source": [
    "count_char_occ_person(data, '\\u2764💕💞💖💝💓💗❣️💟🥰😘😍')"
   ]
  },
  {
   "cell_type": "code",
   "execution_count": null,
   "metadata": {},
   "outputs": [],
   "source": [
    "count_char_occ_person(data, '🙂😀😃😄😆😂🤣😅☺️😊😁😇🙃😉😗😙😚😋😛😝😜🤪😌🤗🤭🤤🤓😎🤩🥳🤠🤑😈😺😸😹😻😼😽')"
   ]
  },
  {
   "cell_type": "code",
   "execution_count": null,
   "metadata": {},
   "outputs": [],
   "source": [
    "count_char_occ_person(data, '😕🙁☹️😟😒😞😔😣😖😫😩🥺😢😭😥😓😿🙍🙍‍♀️🙍‍♂️')"
   ]
  },
  {
   "cell_type": "code",
   "execution_count": null,
   "metadata": {},
   "outputs": [],
   "source": [
    "count_char_occ_person(data, '😠😡🤬😤👿😾👺🙎🙎‍♀️🙎‍♂️')"
   ]
  },
  {
   "cell_type": "code",
   "execution_count": null,
   "metadata": {},
   "outputs": [],
   "source": [
    "count_char_occ_person(data, '🤨🧐🤔😶😐😑😯😦😮😧😲😳😬😨😰😱🙀🤯😵🥴🤕😷🤧🤒🤢🤮🥵🥶🥱😪😴')"
   ]
  },
  {
   "cell_type": "code",
   "execution_count": null,
   "metadata": {},
   "outputs": [],
   "source": [
    "count_char_occ_person(data, '🤫🤥🤐👹🤡💩👻💀☠️👽👾🤖🎃')"
   ]
  },
  {
   "cell_type": "code",
   "execution_count": null,
   "metadata": {},
   "outputs": [],
   "source": [
    "count_char_occ_person(data, '🙏🤲👐🙌👏👋✋🤚🖐🖖🤟🤘✌️🤞👌🤙🤏🖕👊✊🤛🤜👍👎👈👉👆👇☝️🤝💪✍️🦶🦵🦿🦾')"
   ]
  },
  {
   "cell_type": "code",
   "execution_count": null,
   "metadata": {},
   "outputs": [],
   "source": [
    "count_char_occ_person(data, '🤦🤦‍♀️🤦‍♂️💁💁‍♀️💁‍♂️🤷🤷‍♀️🤷‍♂️🙋🙋🙋‍♀️🙋‍♂️🙅🙅‍♀️🙅‍♂️🙆🙆‍♀️🙆‍♂️🙇🙇‍♀️🙇‍♂️🤰🤱🧑‍🍼👩‍🍼👨‍🍼')"
   ]
  }
 ],
 "metadata": {
  "kernelspec": {
   "display_name": "Python 3",
   "language": "python",
   "name": "python3"
  },
  "language_info": {
   "codemirror_mode": {
    "name": "ipython",
    "version": 3
   },
   "file_extension": ".py",
   "mimetype": "text/x-python",
   "name": "python",
   "nbconvert_exporter": "python",
   "pygments_lexer": "ipython3",
   "version": "3.8.3"
  }
 },
 "nbformat": 4,
 "nbformat_minor": 4
}
